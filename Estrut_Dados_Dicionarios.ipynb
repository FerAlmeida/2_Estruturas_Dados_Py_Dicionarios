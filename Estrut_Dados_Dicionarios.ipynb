{
 "cells": [
  {
   "cell_type": "markdown",
   "metadata": {},
   "source": [
    "#### Estruturas de Dados "
   ]
  },
  {
   "cell_type": "markdown",
   "metadata": {},
   "source": [
    "#### DICIONÁRIOS\n",
    "- são conjuntos de elementos formados por um par de chaves:valor\n",
    "- são mutáveis\n",
    "- são heterogêneos"
   ]
  },
  {
   "cell_type": "code",
   "execution_count": 4,
   "metadata": {},
   "outputs": [
    {
     "name": "stdout",
     "output_type": "stream",
     "text": [
      "Fernando\n",
      "Adminstrador\n",
      "1\n"
     ]
    }
   ],
   "source": [
    "usuario = {\"nome\": \"Fernando\", \n",
    "           \"Tipo de acesso\":\"Adminstrador\",\n",
    "            \"nivel de acesso\" : 1 }   \n",
    "\n",
    "print(usuario[\"nome\"]) \n",
    "print(usuario[\"Tipo de acesso\"])\n",
    "print(usuario[\"nivel de acesso\"])                                   # onde temos uma chave {} e um valor :"
   ]
  },
  {
   "cell_type": "markdown",
   "metadata": {},
   "source": [
    "###### * Métodos e propriedades"
   ]
  },
  {
   "cell_type": "code",
   "execution_count": 7,
   "metadata": {},
   "outputs": [
    {
     "name": "stdout",
     "output_type": "stream",
     "text": [
      "dict_keys(['nome', 'Tipo de acesso', 'nivel de acesso'])\n"
     ]
    }
   ],
   "source": [
    "# Listando as chaves do dicionário\n",
    "print(usuario.keys())"
   ]
  },
  {
   "cell_type": "code",
   "execution_count": 8,
   "metadata": {},
   "outputs": [
    {
     "name": "stdout",
     "output_type": "stream",
     "text": [
      "dict_values(['Fernando', 'Adminstrador', 1])\n"
     ]
    }
   ],
   "source": [
    "# listando os valores de un dicionário\n",
    "print(usuario.values())"
   ]
  },
  {
   "cell_type": "markdown",
   "metadata": {},
   "source": [
    "###### * Adicionando valores em um dicionário \n",
    "- Método update()"
   ]
  },
  {
   "cell_type": "code",
   "execution_count": 9,
   "metadata": {},
   "outputs": [
    {
     "name": "stdout",
     "output_type": "stream",
     "text": [
      "{'nome': 'Fernando', 'Tipo de acesso': 'Adminstrador', 'nivel de acesso': 1}\n"
     ]
    }
   ],
   "source": [
    "usuario = {\"nome\": \"Fernando\", \n",
    "           \"Tipo de acesso\":\"Adminstrador\",\n",
    "            \"nivel de acesso\" : 1 } \n",
    "print(usuario)"
   ]
  },
  {
   "cell_type": "code",
   "execution_count": 15,
   "metadata": {},
   "outputs": [
    {
     "name": "stdout",
     "output_type": "stream",
     "text": [
      "{'nome': 'Fernando', 'Tipo de acesso': 'Adminstrador', 'nivel de acesso': 1, 'ultimo acesso': '2024-08-20'}\n"
     ]
    }
   ],
   "source": [
    "usuario.update({\"ultimo acesso\":\"2024-08-20\"})\n",
    "print(usuario)"
   ]
  },
  {
   "cell_type": "markdown",
   "metadata": {},
   "source": [
    "###### * Removendo elementos de um dicionário\n",
    "- Método pop()\n"
   ]
  },
  {
   "cell_type": "code",
   "execution_count": 16,
   "metadata": {},
   "outputs": [
    {
     "name": "stdout",
     "output_type": "stream",
     "text": [
      "{'nome': 'Fernando', 'Tipo de acesso': 'Adminstrador', 'nivel de acesso': 1, 'ultimo acesso': '2024-08-20'}\n"
     ]
    }
   ],
   "source": [
    "print(usuario)"
   ]
  },
  {
   "cell_type": "code",
   "execution_count": 18,
   "metadata": {},
   "outputs": [
    {
     "name": "stdout",
     "output_type": "stream",
     "text": [
      "{'nome': 'Fernando', 'nivel de acesso': 1, 'ultimo acesso': '2024-08-20'}\n"
     ]
    }
   ],
   "source": [
    "usuario.pop(\"Tipo de acesso\")\n",
    "print(usuario)"
   ]
  },
  {
   "cell_type": "code",
   "execution_count": 19,
   "metadata": {},
   "outputs": [
    {
     "name": "stdout",
     "output_type": "stream",
     "text": [
      "{'nome': 'Aristoteles', 'nivel de acesso': 1, 'ultimo acesso': '2024-08-20'}\n"
     ]
    }
   ],
   "source": [
    "# Modificando um elemento\n",
    "\n",
    "usuario[\"nome\"] = \"Aristoteles\"\n",
    "print(usuario)"
   ]
  }
 ],
 "metadata": {
  "kernelspec": {
   "display_name": "Python 3",
   "language": "python",
   "name": "python3"
  },
  "language_info": {
   "codemirror_mode": {
    "name": "ipython",
    "version": 3
   },
   "file_extension": ".py",
   "mimetype": "text/x-python",
   "name": "python",
   "nbconvert_exporter": "python",
   "pygments_lexer": "ipython3",
   "version": "3.12.2"
  }
 },
 "nbformat": 4,
 "nbformat_minor": 2
}
